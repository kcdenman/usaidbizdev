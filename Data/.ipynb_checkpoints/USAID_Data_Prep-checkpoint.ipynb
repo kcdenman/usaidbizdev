{
 "cells": [
  {
   "cell_type": "code",
   "execution_count": 1,
   "metadata": {},
   "outputs": [],
   "source": [
    "#.1 Import top-level libraries\n",
    "\n",
    "import pandas as pd #used for data frames\n",
    "import numpy as np"
   ]
  },
  {
   "cell_type": "code",
   "execution_count": 2,
   "metadata": {},
   "outputs": [],
   "source": [
    "#2. Download latest USAID oppty data\n",
    "\n",
    "import requests\n",
    "import time\n",
    "\n",
    "timestr = time.strftime(\"%Y%m%d-%H%M%S\")\n",
    "\n",
    "\n",
    "dls = \"https://www.usaid.gov/business-forecast/search/download/usaid-business-forecast.xlsx\"\n",
    "resp = requests.get(dls)\n",
    " \n",
    "output = open('USAID_' + timestr + '.xlsx', 'wb')\n",
    "output.write(resp.content)\n",
    "output.close()"
   ]
  },
  {
   "cell_type": "code",
   "execution_count": 3,
   "metadata": {},
   "outputs": [],
   "source": [
    "#3. Create data array\n",
    "\n",
    "data = pd.read_excel('USAID_'+timestr+'.xlsx')"
   ]
  },
  {
   "cell_type": "code",
   "execution_count": 4,
   "metadata": {},
   "outputs": [],
   "source": [
    "#4. Clean up column headers\n",
    "\n",
    "data.columns = ['OperatingUnit', 'AASpecialist', 'AwardTitle', 'AwardDescription',\n",
    "       'Sector', 'Code', 'AmountRange', 'Incumbent',\n",
    "       'AwardActionType', 'SmallBusinessSetAside',\n",
    "       'FiscalYearofAction', 'AnticipatedAwardDate_raw',\n",
    "       'AnticipatedSolicitationReleaseDate_raw', 'AwardLength',\n",
    "       'SolicitationNumber', 'BusinessForecastStatusChange', 'Location',\n",
    "       'LastModifiedDate_raw']"
   ]
  },
  {
   "cell_type": "code",
   "execution_count": 5,
   "metadata": {},
   "outputs": [],
   "source": [
    "#5. Add new columns to populate lower and upper amount range into\n",
    "\n",
    "data['BaseAmount'] = data.AmountRange\n",
    "data['CeilingAmount'] = data.AmountRange\n",
    "data['AnticpatedAwardDate'] = pd.to_datetime(data.AnticipatedAwardDate_raw)\n",
    "data['AnticipatedSolicitationReleaseDate'] = pd.to_datetime(data.AnticipatedSolicitationReleaseDate_raw)\n",
    "data['LastModifiedDate'] = pd.to_datetime(data.LastModifiedDate_raw)\n"
   ]
  },
  {
   "cell_type": "code",
   "execution_count": 6,
   "metadata": {
    "scrolled": true
   },
   "outputs": [],
   "source": [
    "#6. Clean up data types\n",
    "\n",
    "#categories\n",
    "data.OperatingUnit = data.OperatingUnit.astype('category')\n",
    "data.Sector = data.Sector.astype('category')\n",
    "data.Location = data.Location.astype('category')\n",
    "data.FiscalYearofAction = data.FiscalYearofAction.astype('category')\n",
    "data.OperatingUnit = data.OperatingUnit.astype('category')\n",
    "data.AmountRange = data.AmountRange.astype('category')\n",
    "data.Code = data.Code.astype('category')"
   ]
  },
  {
   "cell_type": "code",
   "execution_count": 7,
   "metadata": {},
   "outputs": [],
   "source": [
    "#7. Remove rows where AmountRange is null\n",
    "\n",
    "data = data[data.AmountRange.notnull()]"
   ]
  },
  {
   "cell_type": "code",
   "execution_count": 8,
   "metadata": {},
   "outputs": [],
   "source": [
    "#7. Create dictionaries for lower and upper replacements\n",
    "\n",
    "base_replacements = {\n",
    "    '$150,000 - $499,999':150000,\n",
    "    '$500,000 - $999,999':500000,\n",
    "    '$1M - $3.99M':1000000,\n",
    "    '$4M - $9.99M':4000000,\n",
    "    '$10M - $24.99M':10000000,\n",
    "    '$25M - $49.99M':25000000,\n",
    "    '$50M - $99.99M':50000000,\n",
    "    '$100M - $299.99M':100000000,\n",
    "    '$300M - $499.99M':300000000,\n",
    "    '$500M - $749.99M':500000000,\n",
    "    '$2B - $2.49B':2000000000,\n",
    "    'NaN':0\n",
    "                }\n",
    "\n",
    "ceiling_replacements = {\n",
    "    '$150,000 - $499,999':499999,\n",
    "    '$500,000 - $999,999':999999,\n",
    "    '$1M - $3.99M':3900000,\n",
    "    '$4M - $9.99M':9999000,\n",
    "    '$10M - $24.99M':24990000,\n",
    "    '$25M - $49.99M':49990000,\n",
    "    '$50M - $99.99M':99990000,\n",
    "    '$100M - $299.99M':299990000,\n",
    "    '$300M - $499.99M':499990000,\n",
    "    '$500M - $749.99M':749990000,\n",
    "    '$2B - $2.49B':2490000000\n",
    "                }"
   ]
  },
  {
   "cell_type": "code",
   "execution_count": 9,
   "metadata": {},
   "outputs": [],
   "source": [
    "#8. Make replacements and update datatypes\n",
    "\n",
    "data['BaseAmount'].replace(base_replacements, inplace=True)\n",
    "data['CeilingAmount'].replace(ceiling_replacements, inplace=True)\n",
    "\n",
    "data.BaseAmount = data.BaseAmount.astype('float64')\n",
    "data.CeilingAmount = data.CeilingAmount.astype('float64')"
   ]
  },
  {
   "cell_type": "code",
   "execution_count": 10,
   "metadata": {},
   "outputs": [],
   "source": [
    "#9. Create a copy of the enriched dataset\n",
    "\n",
    "vizdata = data.copy()"
   ]
  },
  {
   "cell_type": "code",
   "execution_count": 11,
   "metadata": {},
   "outputs": [],
   "source": [
    "#9b. Write enriched dataset to a file\n",
    "\n",
    "data.to_excel('USAID_' + timestr + '_ENRICHED.xlsx')"
   ]
  },
  {
   "cell_type": "markdown",
   "metadata": {},
   "source": [
    "---"
   ]
  }
 ],
 "metadata": {
  "kernelspec": {
   "display_name": "Python 3",
   "language": "python",
   "name": "python3"
  },
  "language_info": {
   "codemirror_mode": {
    "name": "ipython",
    "version": 3
   },
   "file_extension": ".py",
   "mimetype": "text/x-python",
   "name": "python",
   "nbconvert_exporter": "python",
   "pygments_lexer": "ipython3",
   "version": "3.6.4"
  }
 },
 "nbformat": 4,
 "nbformat_minor": 2
}
